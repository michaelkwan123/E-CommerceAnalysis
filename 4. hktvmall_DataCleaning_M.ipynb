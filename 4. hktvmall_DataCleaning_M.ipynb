{
 "metadata": {
  "language_info": {
   "codemirror_mode": {
    "name": "ipython",
    "version": 3
   },
   "file_extension": ".py",
   "mimetype": "text/x-python",
   "name": "python",
   "nbconvert_exporter": "python",
   "pygments_lexer": "ipython3",
   "version": 3
  },
  "orig_nbformat": 2
 },
 "nbformat": 4,
 "nbformat_minor": 2,
 "cells": [
  {
   "cell_type": "code",
   "execution_count": null,
   "metadata": {},
   "outputs": [],
   "source": [
    "import pandas as pd\n",
    "import numpy as np\n",
    "import string\n",
    "import re\n",
    "df=pd.read_csv(\"hktvmall_skincare_males.csv\", index_col=0)"
   ]
  },
  {
   "cell_type": "code",
   "execution_count": null,
   "metadata": {},
   "outputs": [],
   "source": [
    "#\"Discount Price\" Cleaning\n",
    "for i in range(0, len(df[\"Discount price\"])):\n",
    "    df[\"Discount price\"][i]=df[\"Discount price\"][i].replace(\",\",\"\").strip()\n",
    "    try: \n",
    "        df[\"Discount price\"][i]=re.match(\"(\\d+)\\.?.*\", df[\"Discount price\"][i]).group(1)\n",
    "    except:\n",
    "        df[\"Discount price\"][i]=\"0\"\n",
    "\n",
    "df[\"Discount price\"]=df[\"Discount price\"].astype(\"int64\")"
   ]
  },
  {
   "cell_type": "code",
   "execution_count": null,
   "metadata": {},
   "outputs": [],
   "source": [
    "#\"Original Price\" Cleaning\n",
    "for i in range(0, len(df[\"Original Price\"])):\n",
    "    \n",
    "    df[\"Original Price\"][i]=df[\"Original Price\"][i].replace(\",\",\"\").strip()\n",
    "\n",
    "    try: \n",
    "        df[\"Original Price\"][i]=re.match(\"(\\d+)\\.?.*\", df[\"Original Price\"][i]).group(1)\n",
    "    except:\n",
    "        df[\"Original Price\"][i]=\"0\"\n",
    "\n",
    "df[\"Original Price\"]=df[\"Original Price\"].astype(\"int64\")"
   ]
  },
  {
   "cell_type": "code",
   "execution_count": null,
   "metadata": {},
   "outputs": [],
   "source": [
    "#Create new features - \"Discount\" & \"% Discount\"\n",
    "df[\"Discount\"]=df[\"Original Price\"]-df[\"Discount price\"]\n",
    "df[\"%Discount\"]=df[\"Discount\"]*(1/df[\"Original Price\"])*100"
   ]
  },
  {
   "cell_type": "code",
   "execution_count": null,
   "metadata": {},
   "outputs": [],
   "source": [
    "#Create new feature - \"Revenue\"\n",
    "df[\"Revenue\"]=df[\"Discount price\"]*df[\"Sales\"]"
   ]
  },
  {
   "cell_type": "code",
   "execution_count": null,
   "metadata": {},
   "outputs": [],
   "source": [
    "#Rounding \"Rating\" & \"Review\"\n",
    "df=df.round({'Rating': 1, 'Review=': 0})"
   ]
  },
  {
   "cell_type": "code",
   "execution_count": null,
   "metadata": {},
   "outputs": [],
   "source": [
    "#\"Sales\" Cleaning\n",
    "for i in range(0, len(df[\"Sales\"])):\n",
    "    try:\n",
    "        df[\"Sales\"][i]=df[\"Sales\"][i].replace(\",\",\"\").strip()\n",
    "    except:\n",
    "        df[\"Sales\"][i]=np.nan\n",
    "df[\"Sales\"]=df[\"Sales\"].astype(\"float64\")"
   ]
  },
  {
   "cell_type": "code",
   "execution_count": null,
   "metadata": {},
   "outputs": [],
   "source": [
    "#Create new feature - \"Price Range\"\n",
    "df['Price Range'] = df.apply(lambda _: '', axis=1)\n",
    "for i in range(0, len(df[\"Discount price\"])):\n",
    "    if df[\"Discount price\"][i]<=100:\n",
    "        df[\"Price Range\"][i]=\"0-100\"\n",
    "    elif (df[\"Discount price\"][i]>100) and (df[\"Discount price\"][i]<=200):\n",
    "        df[\"Price Range\"][i]=\"101-200\"\n",
    "    elif (df[\"Discount price\"][i]>200) and (df[\"Discount price\"][i]<=300):\n",
    "        df[\"Price Range\"][i]=\"201-300\"\n",
    "    elif (df[\"Discount price\"][i]>300) and (df[\"Discount price\"][i]<=400):\n",
    "        df[\"Price Range\"][i]=\"301-400\"\n",
    "    elif (df[\"Discount price\"][i]>400) and (df[\"Discount price\"][i]<=500):\n",
    "        df[\"Price Range\"][i]=\"401-500\"\n",
    "    elif (df[\"Discount price\"][i]>500) and (df[\"Discount price\"][i]<=600):\n",
    "        df[\"Price Range\"][i]=\"501-600\"\n",
    "    elif (df[\"Discount price\"][i]>600) and (df[\"Discount price\"][i]<=700):\n",
    "        df[\"Price Range\"][i]=\"601-700\"\n",
    "    elif (df[\"Discount price\"][i]>700) and (df[\"Discount price\"][i]<=800):\n",
    "        df[\"Price Range\"][i]=\"701-800\"\n",
    "    elif (df[\"Discount price\"][i]>800) and (df[\"Discount price\"][i]<=900):\n",
    "        df[\"Price Range\"][i]=\"801-900\"\n",
    "    elif (df[\"Discount price\"][i]>900) and (df[\"Discount price\"][i]<=1000):\n",
    "        df[\"Price Range\"][i]=\"901-1000\"\n",
    "    elif df[\"Discount price\"][i]>1000:\n",
    "        df[\"Price Range\"][i]=\">1000\""
   ]
  },
  {
   "cell_type": "code",
   "execution_count": null,
   "metadata": {},
   "outputs": [],
   "source": [
    "#Create new feature - \"Product Category\"\n",
    "df[\"Product Category\"] = df.apply(lambda _: '', axis=1)\n",
    "for i in range(0, len(df[\"Product Category Code\"])):\n",
    "    if df[\"Product Category Code\"][i]==\"AA16107520001\":\n",
    "        df[\"Product Category\"][i]=\"Moisturizer\"\n",
    "    elif df[\"Product Category Code\"][i]==\"AA16107510001\":\n",
    "        df[\"Product Category\"][i]=\"Cleanser\"\n",
    "    elif (df[\"Product Category Code\"][i]==\"AA16107530001\") or (df[\"Product Category Code\"][i]==\"AA13203530001\"):\n",
    "        df[\"Product Category\"][i]=\"After Shave Care\"\n",
    "    elif df[\"Product Category Code\"][i]==\"AA16100510001\":\n",
    "        df[\"Product Category\"][i]=\"Cleansing Milk\"\n",
    "    elif df[\"Product Category Code\"][i]==\"AA16105020001\":\n",
    "        df[\"Product Category\"][i]=\"Suncreen\"\n",
    "    else:\n",
    "        df[\"Product Category\"][i]=\"Others\""
   ]
  },
  {
   "cell_type": "code",
   "execution_count": null,
   "metadata": {},
   "outputs": [],
   "source": [
    "#Save to .csv file\n",
    "df.to_csv(\"hktvmall_skincare_males_cleaned.csv\")"
   ]
  }
 ]
}