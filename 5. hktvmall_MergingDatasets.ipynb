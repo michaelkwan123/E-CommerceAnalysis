{
 "metadata": {
  "language_info": {
   "codemirror_mode": {
    "name": "ipython",
    "version": 3
   },
   "file_extension": ".py",
   "mimetype": "text/x-python",
   "name": "python",
   "nbconvert_exporter": "python",
   "pygments_lexer": "ipython3",
   "version": "3.7.6-final"
  },
  "orig_nbformat": 2,
  "kernelspec": {
   "name": "Python 3.7.6 64-bit ('base': conda)",
   "display_name": "Python 3.7.6 64-bit ('base': conda)",
   "metadata": {
    "interpreter": {
     "hash": "dca0ade3e726a953b501b15e8e990130d2b7799f14cfd9f4271676035ebe5511"
    }
   }
  }
 },
 "nbformat": 4,
 "nbformat_minor": 2,
 "cells": [
  {
   "cell_type": "code",
   "execution_count": 84,
   "metadata": {},
   "outputs": [],
   "source": [
    "import pandas as pd\n",
    "#Load dataframes\n",
    "df_hktvmall_all=pd.read_csv('hktvmall_skincare_females_and_males_cleaned.csv',index_col=0)\n",
    "df_hktvmall_male=pd.read_csv('hktvmall_skincare_males_cleaned.csv',index_col=0)"
   ]
  },
  {
   "cell_type": "code",
   "execution_count": 85,
   "metadata": {},
   "outputs": [],
   "source": [
    "#Rename Columns\n",
    "df_hktvmall_all=df_hktvmall_all.rename(columns={\"Discount price\": \"Discount Price\"})\n",
    "df_hktvmall_male=df_hktvmall_male.rename(columns={\"Raw Product\": \"Raw Info\", \"Discount price\": \"Discount Price\"})"
   ]
  },
  {
   "cell_type": "code",
   "execution_count": 86,
   "metadata": {},
   "outputs": [],
   "source": [
    "#Create New Column - \"Male_only\" for Male Dataset\n",
    "df_hktvmall_male[\"Male_only\"]=df_hktvmall_male.apply(lambda _: '', axis=1)\n",
    "df_hktvmall_male[\"Male_only\"]=df_hktvmall_male[\"Male_only\"].apply(lambda x: \"Male\")"
   ]
  },
  {
   "cell_type": "code",
   "execution_count": 87,
   "metadata": {},
   "outputs": [],
   "source": [
    "#Combine Dataframe\n",
    "df_combo=df_hktvmall_all.append(df_hktvmall_male)"
   ]
  },
  {
   "cell_type": "code",
   "execution_count": 105,
   "metadata": {},
   "outputs": [],
   "source": [
    "#Handle nan values in \"Male_only\" column\n",
    "df_combo[\"Male_only\"]=df_combo[\"Male_only\"].fillna(\"Female\")"
   ]
  },
  {
   "cell_type": "code",
   "execution_count": 107,
   "metadata": {},
   "outputs": [],
   "source": [
    "#Locate Duplicate\n",
    "df_duplicate=df_combo.duplicated(subset=['Discount Price', 'Original Price', 'Product Brand',\n",
    "       'Product Category Code', 'Product Name', 'Promo Tag', 'Rating',\n",
    "       'Raw Info', 'Review', 'Sales', 'Vendor', 'Discount', 'Price Range',\n",
    "       'Product Category', 'Revenue'], keep=\"first\")"
   ]
  },
  {
   "cell_type": "code",
   "execution_count": 108,
   "metadata": {},
   "outputs": [],
   "source": [
    "#Create New Column with Duplicate Marks\n",
    "df_combo[\"Duplicate\"]=df_duplicate"
   ]
  },
  {
   "cell_type": "code",
   "execution_count": 109,
   "metadata": {},
   "outputs": [],
   "source": [
    "#Drop Duplicates\n",
    "df_combo=df_combo.drop_duplicates(subset=['Discount Price', 'Original Price', 'Product Brand',\n",
    "       'Product Category Code', 'Product Name', 'Promo Tag', 'Rating',\n",
    "       'Raw Info', 'Review', 'Sales', 'Vendor', 'Discount', 'Price Range',\n",
    "       'Product Category', 'Revenue'], keep='last')"
   ]
  },
  {
   "cell_type": "code",
   "execution_count": 110,
   "metadata": {},
   "outputs": [
    {
     "output_type": "execute_result",
     "data": {
      "text/plain": [
       "False    49825\n",
       "True       192\n",
       "Name: Duplicate, dtype: int64"
      ]
     },
     "metadata": {},
     "execution_count": 110
    }
   ],
   "source": [
    "#Create \"Male_only\" Column\n",
    "df_combo[\"Duplicate\"].value_counts()"
   ]
  },
  {
   "cell_type": "code",
   "execution_count": 112,
   "metadata": {},
   "outputs": [],
   "source": [
    "#Save to csv\n",
    "df_combo.to_csv(\"hktvmall_combine.csv\")"
   ]
  }
 ]
}