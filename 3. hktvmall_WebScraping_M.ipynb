{
 "metadata": {
  "language_info": {
   "codemirror_mode": {
    "name": "ipython",
    "version": 3
   },
   "file_extension": ".py",
   "mimetype": "text/x-python",
   "name": "python",
   "nbconvert_exporter": "python",
   "pygments_lexer": "ipython3",
   "version": "3.7.6-final"
  },
  "orig_nbformat": 2,
  "kernelspec": {
   "name": "python_defaultSpec_1599900335140",
   "display_name": "Python 3.7.6 64-bit ('base': conda)"
  }
 },
 "nbformat": 4,
 "nbformat_minor": 2,
 "cells": [
  {
   "cell_type": "code",
   "execution_count": 2,
   "metadata": {
    "tags": [
     "outputPrepend"
    ]
   },
   "outputs": [
    {
     "output_type": "stream",
     "name": "stdout",
     "text": "\nVendor: HAIR FOREST\nProduct Category Code: AA13203520001\n\n\nRaw Info: Shiseido - Men Cleansing Foam 125ml\nProduct Brand: Shiseido\nProduct Name: Men Cleansing Foam 125ml\nSales: nan\nOriginal Price:  300.00\nDiscount Price: 228.00\nPromo Tag: 2-day group shipment\nRating: nan\nReview: nan\nVendor: Beaute House\nProduct Category Code: AA16107510001\n\n\nRaw Info: SK-II - SK2/SKII Men Moisturizing Cleanser 120g\nProduct Brand: SK-II\nProduct Name: SK2/SKII Men Moisturizing Cleanser 120g\nSales: nan\nOriginal Price:  680.00\nDiscount Price: 498.00\nPromo Tag: 2-day group shipment\nRating: nan\nReview: nan\nVendor: Beaute House\nProduct Category Code: AA16107510001\n\n\nRaw Info: Shiseido - MEN HYDRATING LOTION 150ML\nProduct Brand: Shiseido\nProduct Name: MEN HYDRATING LOTION 150ML\nSales: nan\nOriginal Price:  283.00\nDiscount Price: 198.00\nPromo Tag: 2-day group shipment\nRating: nan\nReview: nan\nVendor: The One Baby\nProduct Category Code: AA16107520001\n\n\nRaw Info: Shiseido - CLARIFYING CLEANSING FOAM FOR ALL SKIN TYPES 125ML\nProduct Brand: Shiseido\nProduct Name: CLARIFYING CLEANSING FOAM FOR ALL SKIN TYPES 125ML\nSales: nan\nOriginal Price:  377.00\nDiscount Price: 264.00\nPromo Tag: 2-day group shipment\nRating: nan\nReview: nan\nVendor: The One Baby\nProduct Category Code: AA16107510001\n\n\nRaw Info: Mon Dermar - GENTLE PH BALANCER\nProduct Brand: Mon Dermar\nProduct Name: GENTLE PH BALANCER\nSales: nan\nOriginal Price: nan\nDiscount Price: 158.00\nPromo Tag: 2-day group shipment\nRating: nan\nReview: nan\nVendor: Beautystock Group Limited\nProduct Category Code: AA16101500001\n\n\nRaw Info: Kiehl's - KIEHL'S FACIAL FUEL ENERGIZING MOISTURE TREATMENT FOR MEN 75ML [Parallel Import Product]\nProduct Brand: Kiehl's\nProduct Name: KIEHL'S FACIAL FUEL ENERGIZING MOISTURE TREATMENT FOR MEN 75ML [Parallel Import Product]\nSales: nan\nOriginal Price:  225.00\nDiscount Price: 190.00\nPromo Tag: 2-day group shipment\nRating: nan\nReview: nan\nVendor: PC Beauty\nProduct Category Code: AA16107520001\n\n\nRaw Info: Kiehl's - KIEHKL'S AGE DEFENDER EYE REPAIR FOR MEN 14ML [Parallel Import Product]\nProduct Brand: Kiehl's\nProduct Name: KIEHKL'S AGE DEFENDER EYE REPAIR FOR MEN 14ML [Parallel Import Product]\nSales: nan\nOriginal Price:  270.00\nDiscount Price: 210.00\nPromo Tag: 2-day group shipment\nRating: nan\nReview: nan\nVendor: PC Beauty\nProduct Category Code: AA16107520001\n\n\nhttps://www.hktvmall.com/hktv/en/main/search?page=8&q=%3Arelevance%3Acategory%3AAA16107500000%3Azone%3Abeautynhealth%3Astreet%3Amain%3A\nRaw Info: Kiehl's - KIEHL'S AGE DEFENDER POWER SERUM FOR MEN 75ML [Parallel Import Product]\nProduct Brand: Kiehl's\nProduct Name: KIEHL'S AGE DEFENDER POWER SERUM FOR MEN 75ML [Parallel Import Product]\nSales: nan\nOriginal Price:  450.00\nDiscount Price: 340.00\nPromo Tag: 2-day group shipment\nRating: nan\nReview: nan\nVendor: PC Beauty\nProduct Category Code: AA16107520001\n\n\nRaw Info: Kiehl's - Facial Fuel Energizing Face Wash 250ml (Parallel Import)\nProduct Brand: Kiehl's\nProduct Name: Facial Fuel Energizing Face Wash 250ml (Parallel Import)\nSales: nan\nOriginal Price:  190.00\nDiscount Price: 180.00\nPromo Tag: 2-day group shipment\nRating: nan\nReview: nan\nVendor: AYO Cosmetic\nProduct Category Code: AA16107510001\n\n\nRaw Info: Kiehl's - Facial Fuel Energizing Tonic for Men 250ml (Parallel Import)\nProduct Brand: Kiehl's\nProduct Name: Facial Fuel Energizing Tonic for Men 250ml (Parallel Import)\nSales: nan\nOriginal Price:  280.00\nDiscount Price: 228.00\nPromo Tag: 2-day group shipment\nRating: nan\nReview: nan\nVendor: AYO Cosmetic\nProduct Category Code: AA16107520001\n\n\nRaw Info: Kiehl's - Facial Fuel Daily Energizing Moisture Treatment for Men 125ml (Parallel Import)\nProduct Brand: Kiehl's\nProduct Name: Facial Fuel Daily Energizing Moisture Treatment for Men 125ml (Parallel Import)\nSales: nan\nOriginal Price:  475.00\nDiscount Price: 388.00\nPromo Tag: 2-day group shipment\nRating: nan\nReview: nan\nVendor: AYO Cosmetic\nProduct Category Code: AA16107520001\n\n\nRaw Info: AHC - Homme Only For Man Skin Care Set 3 items (Parallel Import)\nProduct Brand: AHC\nProduct Name: Homme Only For Man Skin Care Set 3 items (Parallel Import)\nSales: nan\nOriginal Price:  279.00\nDiscount Price: 198.00\nPromo Tag: 2-day group shipment\nRating: nan\nReview: nan\nVendor: GT Market\nProduct Category Code: AA16107520001\n\n\nRaw Info: Biotherm - Aqua Power 72H Gel Cream 50ml (Parallel Import)\nProduct Brand: Biotherm\nProduct Name: Aqua Power 72H Gel Cream 50ml (Parallel Import)\nSales: nan\nOriginal Price:  450.00\nDiscount Price: 338.00\nPromo Tag: 2-day group shipment\nRating: nan\nReview: nan\nVendor: JCOR Cosmetic\nProduct Category Code: AA16107520001\n\n\nRaw Info: Biotherm - Aquapower Refreshing Cleanser 125ml (Parallel Import)\nProduct Brand: Biotherm\nProduct Name: Aquapower Refreshing Cleanser 125ml (Parallel Import)\nSales: nan\nOriginal Price:  230.00\nDiscount Price: 228.00\nPromo Tag: 2-day group shipment\nRating: nan\nReview: nan\nVendor: AYO Cosmetic\nProduct Category Code: AA16107510001\n\n\nRaw Info: Biotherm - Aquapower Cooling Fresh Gel 75ml (Parallel Import)\nProduct Brand: Biotherm\nProduct Name: Aquapower Cooling Fresh Gel 75ml (Parallel Import)\nSales: nan\nOriginal Price:  380.00\nDiscount Price: 348.00\nPromo Tag: 2-day group shipment\nRating: nan\nReview: nan\nVendor: AYO Cosmetic\nProduct Category Code: AA16107520001\n\n\nRaw Info: Biotherm - Aquapower Refreshing Lotion 200ml (Parallel Import)\nProduct Brand: Biotherm\nProduct Name: Aquapower Refreshing Lotion 200ml (Parallel Import)\nSales: nan\nOriginal Price:  250.00\nDiscount Price: 245.00\nPromo Tag: 2-day group shipment\nRating: nan\nReview: nan\nVendor: AYO Cosmetic\nProduct Category Code: AA16107520001\n\n\nRaw Info: Biotherm - T-Pur Purifying Power Duo Set (Parallel Import)\nProduct Brand: Biotherm\nProduct Name: T-Pur Purifying Power Duo Set (Parallel Import)\nSales: nan\nOriginal Price:  620.00\nDiscount Price: 560.00\nPromo Tag: 2-day group shipment\nRating: nan\nReview: nan\nVendor: AYO Cosmetic\nProduct Category Code: AA16107520001\n\n\nRaw Info: Secret Key - Starting Treatment Essence (Rose Edition 150ml)\nProduct Brand: Secret Key\nProduct Name: Starting Treatment Essence (Rose Edition 150ml)\nSales: 10\nOriginal Price:  228.00\nDiscount Price: 168.00\nPromo Tag: 2-day group shipment\nRating: nan\nReview: nan\nVendor: Airstore Company\nProduct Category Code: AA28320505001\n\n\nRaw Info: Innisfree - Forest For Men Bubble Cleanser 150ml\nProduct Brand: Innisfree\nProduct Name: Forest For Men Bubble Cleanser 150ml\nSales: nan\nOriginal Price:  110.00\nDiscount Price: 69.00\nPromo Tag: 2-day group shipment\nRating: nan\nReview: nan\nVendor: GetMore Mall\nProduct Category Code: AA16107510001\n\n\nRaw Info: CLINIQUE - For Men Maximum Hydrator Activated Water-Gel Concentrate 48ml\nProduct Brand: CLINIQUE\nProduct Name: For Men Maximum Hydrator Activated Water-Gel Concentrate 48ml\nSales: nan\nOriginal Price:  500.00\nDiscount Price: 230.00\nPromo Tag: 2-day group shipment\nRating: nan\nReview: nan\nVendor: Beaute House\nProduct Category Code: AA16107520001\n\n\nRaw Info: CLINIQUE - For Men Maximum Hydrator 72-hour Auto-Replenishing Hydrator 50ml\nProduct Brand: CLINIQUE\nProduct Name: For Men Maximum Hydrator 72-hour Auto-Replenishing Hydrator 50ml\nSales: nan\nOriginal Price:  500.00\nDiscount Price: 205.00\nPromo Tag: 2-day group shipment\nRating: nan\nReview: nan\nVendor: Beaute House\nProduct Category Code: AA16107520001\n\n\nRaw Info: Braun - CCR4 Clean & Charge Refill Cartridges X 2 - 平行進口\nProduct Brand: Braun\nProduct Name: 平行進口\nSales: 10\nOriginal Price:  599.00\nDiscount Price: 305.00\nPromo Tag: 2-day group shipment\nRating: nan\nReview: nan\nVendor: Eson Life\nProduct Category Code: AA32452020001\n\n\nRaw Info: Melvita - ORGANIC WITCH HAZEL FLORAL WATER 200ML\nProduct Brand: Melvita\nProduct Name: ORGANIC WITCH HAZEL FLORAL WATER 200ML\nSales: 10\nOriginal Price: 280\nDiscount Price: 252.00\nPromo Tag: 2-day group shipment\nRating: nan\nReview: nan\nVendor: Melvita - French Organic Beauty Care\nProduct Category Code: AA16105500001\n\n\nRaw Info: Fancl - Men Fash Wash - 180ml (Parallel Imports)\nProduct Brand: Fancl\nProduct Name: 180ml (Parallel Imports)\nSales: nan\nOriginal Price:  311.00\nDiscount Price: 218.00\nPromo Tag: 2-day group shipment\nRating: nan\nReview: nan\nVendor: Green Element\nProduct Category Code: AA16107510001\n\n\nRaw Info: Lanolin - Oil Moisturising Cream 250g [Parallel Import]\nProduct Brand: Lanolin\nProduct Name: Oil Moisturising Cream 250g [Parallel Import]\nSales: 500\nOriginal Price:  68.00\nDiscount Price: 28.00\nPromo Tag: 2-day group shipment\nRating: 4.555555555555555\nReview: 18\nVendor: Sun Grocery HK Limited\nProduct Category Code: nan\n\n\nRaw Info: Clarins - Men After Shave Energizer  -[Parallel Import Product]\nProduct Brand: Clarins\nProduct Name: Men After Shave Energizer  -[Parallel Import Product]\nSales: 100\nOriginal Price:  398.00\nDiscount Price: 189.00\nPromo Tag: 2-day group shipment\nRating: 4.25\nReview: 4\nVendor: Beautique\nProduct Category Code: nan\n\n\nRaw Info: Shiseido - MG5 After Shave Lotion (F) 150ml\nProduct Brand: Shiseido\nProduct Name: MG5 After Shave Lotion (F) 150ml\nSales: 70\nOriginal Price:  412.00\nDiscount Price: 79.00\nPromo Tag: 2-day group shipment\nRating: 5\nReview: 1\nVendor: Beauty Soulmates\nProduct Category Code: nan\n\n\nRaw Info: Melvita - CALENDULA OIL 50ML\nProduct Brand: Melvita\nProduct Name: CALENDULA OIL 50ML\nSales: 20\nOriginal Price: 260\nDiscount Price: 234.00\nPromo Tag: 2-day group shipment\nRating: nan\nReview: nan\nVendor: Melvita - French Organic Beauty Care\nProduct Category Code: nan\n\n\nRaw Info: Biotherm - AQUAPOWER Oligo-Thermal Fresh Gel Ultra Cleansing for Men 125ml (Parallel Import) *SALE*\nProduct Brand: Biotherm\nProduct Name: AQUAPOWER Oligo-Thermal Fresh Gel Ultra Cleansing for Men 125ml (Parallel Import) *SALE*\nSales: 70\nOriginal Price: nan\nDiscount Price: 165.00\nPromo Tag: 2-day group shipment\nRating: nan\nReview: nan\nVendor: NOBO Cosmetics & Skincare Outlet\nProduct Category Code: nan\n\n\nRaw Info: Biotherm - T-PUR Ultra Absorbing & Matifying Moisturizer Gel 100ml (Parallel Import) [Expiry Date : 12/2020]\nProduct Brand: Biotherm\nProduct Name: T-PUR Ultra Absorbing & Matifying Moisturizer Gel 100ml (Parallel Import) [Expiry Date : 12/2020]\nSales: 40\nOriginal Price: nan\nDiscount Price: 250.00\nPromo Tag: 2-day group shipment\nRating: nan\nReview: nan\nVendor: NOBO Cosmetics & Skincare Outlet\nProduct Category Code: nan\n\n\nRaw Info: Melvita - ORGANIC ORANGE BLOSSOM FLORAL WATER 200ML\nProduct Brand: Melvita\nProduct Name: ORGANIC ORANGE BLOSSOM FLORAL WATER 200ML\nSales: 10\nOriginal Price: 280\nDiscount Price: 252.00\nPromo Tag: 2-day group shipment\nRating: 5\nReview: 1\nVendor: Melvita - French Organic Beauty Care\nProduct Category Code: nan\n\n\nRaw Info: Melvita - ORGANIC CORNFLOWER FLORAL WATER 200ML\nProduct Brand: Melvita\nProduct Name: ORGANIC CORNFLOWER FLORAL WATER 200ML\nSales: 20\nOriginal Price: 280\nDiscount Price: 252.00\nPromo Tag: 2-day group shipment\nRating: nan\nReview: nan\nVendor: Melvita - French Organic Beauty Care\nProduct Category Code: nan\n\n\nRaw Info: Agadir Argan Oil - Agadir Men Beard Butter The Hydrator  -[Parallel Import Product]\nProduct Brand: Agadir Argan Oil\nProduct Name: Agadir Men Beard Butter The Hydrator  -[Parallel Import Product]\nSales: nan\nOriginal Price:  272.00\nDiscount Price: 190.00\nPromo Tag: 2-day group shipment\nRating: nan\nReview: nan\nVendor: Beautique\nProduct Category Code: nan\n\n\nRaw Info: Biotherm - Age Fitness Advanced Toning Anti-Aging Care 50ml (Parallel Import) *Clearance Sale*\nProduct Brand: Biotherm\nProduct Name: Age Fitness Advanced Toning Anti-Aging Care 50ml (Parallel Import) *Clearance Sale*\nSales: 40\nOriginal Price: nan\nDiscount Price: 170.00\nPromo Tag: 2-day group shipment\nRating: 4.666666666666667\nReview: 3\nVendor: NOBO Cosmetics & Skincare Outlet\nProduct Category Code: nan\n\n\nRaw Info: Innisfree - Forest For Men Fresh Skin Care 3pcs Set\nProduct Brand: Innisfree\nProduct Name: Forest For Men Fresh Skin Care 3pcs Set\nSales: 10\nOriginal Price:  366.00\nDiscount Price: 190.00\nPromo Tag: 2-day group shipment\nRating: nan\nReview: nan\nVendor: Golden Cosmetic & Beauty Limited\nProduct Category Code: nan\n\n\nRaw Info: Kiehl's - Facial Fuel Energizing Moisturizer For Men 125ml\nProduct Brand: Kiehl's\nProduct Name: Facial Fuel Energizing Moisturizer For Men 125ml\nSales: 300\nOriginal Price:  430.00\nDiscount Price: 285.00\nPromo Tag: 2-day group shipment\nRating: 5\nReview: 7\nVendor: NANA MALL\nProduct Category Code: nan\n\n\nRaw Info: Biotherm - AQUAPOWER 72H Gel Cream for Men 50ml (Parallel Import) [Expiry Date : 2021.12] *SALE*\nProduct Brand: Biotherm\nProduct Name: AQUAPOWER 72H Gel Cream for Men 50ml (Parallel Import) [Expiry Date : 2021.12] *SALE*\nSales: 20\nOriginal Price: nan\nDiscount Price: 220.00\nPromo Tag: 2-day group shipment\nRating: nan\nReview: nan\nVendor: NOBO Cosmetics & Skincare Outlet\nProduct Category Code: nan\n\n\nRaw Info: Shiseido - UNO Men's Face Whip Wash Scrub 130g (Blue) (4901872449682)  (Parallel Import)\nProduct Brand: Shiseido\nProduct Name: UNO Men's Face Whip Wash Scrub 130g (Blue) (4901872449682)  (Parallel Import)\nSales: 300\nOriginal Price:  58.00\nDiscount Price: 29.00\nPromo Tag: 2-day group shipment\nRating: 4.571428571428571\nReview: 7\nVendor: Pretties HK\nProduct Category Code: nan\n\n\nRaw Info: Clarins - Men Super Moisture Gel 50ml\nProduct Brand: Clarins\nProduct Name: Men Super Moisture Gel 50ml\nSales: 10\nOriginal Price:  380.00\nDiscount Price: 218.00\nPromo Tag: 2-day group shipment\nRating: nan\nReview: nan\nVendor: Golden Cosmetic & Beauty Limited\nProduct Category Code: nan\n\n\nRaw Info: Adidas - AFTERSHAVE GET READY 50ml (parallel import goods)\nProduct Brand: Adidas\nProduct Name: AFTERSHAVE GET READY 50ml (parallel import goods)\nSales: 40\nOriginal Price:  128.00\nDiscount Price: 66.00\nPromo Tag: 2-day group shipment\nRating: nan\nReview: nan\nVendor: SH SUPPLIES\nProduct Category Code: nan\n\n\nRaw Info: Biotherm - Force Supreme Essence Gel Set  (Parallel Import)\nProduct Brand: Biotherm\nProduct Name: Force Supreme Essence Gel Set  (Parallel Import)\nSales: nan\nOriginal Price:  1,870.00\nDiscount Price: 858.00\nPromo Tag: 2-day group shipment\nRating: nan\nReview: nan\nVendor: AYO Cosmetic\nProduct Category Code: nan\n\n\nRaw Info: Rosette - 日版Rosette 祛痘玫瑰花天然硫磺潔面乳 90g (中性/偏油膚質)【市集世界 - 日本市集】\nProduct Brand: Rosette\nProduct Name: 日本市集】\nSales: 20\nOriginal Price: nan\nDiscount Price: 59.90\nPromo Tag: 2-day group shipment\nRating: nan\nReview: nan\nVendor: 市集世界 Market Of All Nations\nProduct Category Code: nan\n\n\nRaw Info: Wonder Bath - Wonder bath Super Vegitoks Cleanser [PURPLE] 300ml\nProduct Brand: Wonder Bath\nProduct Name: Wonder bath Super Vegitoks Cleanser [PURPLE] 300ml\nSales: nan\nOriginal Price: nan\nDiscount Price: 114.00\nPromo Tag: 2-day group shipment\nRating: nan\nReview: nan\nVendor: Starbuy\nProduct Category Code: nan\n\n\nRaw Info: BULLDOG - Bulldog Original Face Wash\nProduct Brand: BULLDOG\nProduct Name: Bulldog Original Face Wash\nSales: nan\nOriginal Price:  133.70\nDiscount Price: 79.20\nPromo Tag: 2-day group shipment\nRating: nan\nReview: nan\nVendor: HYY Mart\nProduct Category Code: nan\n\n\nRaw Info: Biotherm - T-Pur Mattifying Moisturizer Gel (Parallel Import)\nProduct Brand: Biotherm\nProduct Name: T-Pur Mattifying Moisturizer Gel (Parallel Import)\nSales: nan\nOriginal Price:  780.00\nDiscount Price: 365.00\nPromo Tag: 2-day group shipment\nRating: nan\nReview: nan\nVendor: AYO Cosmetic\nProduct Category Code: nan\n\n\nRaw Info: UL.OS - Face Sheet\nProduct Brand: UL.OS\nProduct Name: Face Sheet\nSales: 30\nOriginal Price: nan\nDiscount Price: 24.50\nPromo Tag: immediate shipment\nRating: nan\nReview: nan\nVendor: DFair\nProduct Category Code: nan\n\n\nRaw Info: Rosette - 日版Rosette 祛痘玫瑰花天然硫磺潔面乳 90g (乾性膚質)【市集世界 - 日本市集】\nProduct Brand: Rosette\nProduct Name: 日本市集】\nSales: 10\nOriginal Price: nan\nDiscount Price: 59.90\nPromo Tag: 2-day group shipment\nRating: 3\nReview: 1\nVendor: 市集世界 Market Of All Nations\nProduct Category Code: nan\n\n\nRaw Info: Billy Jealousy - Gnarly Sheen Beard Oil  -[Parallel Import Product]\nProduct Brand: Billy Jealousy\nProduct Name: Gnarly Sheen Beard Oil  -[Parallel Import Product]\nSales: nan\nOriginal Price:  390.00\nDiscount Price: 273.00\nPromo Tag: 2-day group shipment\nRating: nan\nReview: nan\nVendor: Beautique\nProduct Category Code: nan\n\n\nRaw Info: MARLOWE. - No. 107 Men's Facial Scrub Soap 99g\nProduct Brand: MARLOWE.\nProduct Name: No. 107 Men's Facial Scrub Soap 99g\nSales: nan\nOriginal Price:  178.00\nDiscount Price: 109.00\nPromo Tag: 2-day group shipment\nRating: nan\nReview: nan\nVendor: Global Brand 全球直送\nProduct Category Code: nan\n\n\nRaw Info: Biotherm - Force Supreme Life Essence 100ml (Parallel Import)\nProduct Brand: Biotherm\nProduct Name: Force Supreme Life Essence 100ml (Parallel Import)\nSales: nan\nOriginal Price:  490.00\nDiscount Price: 418.00\nPromo Tag: 2-day group shipment\nRating: nan\nReview: nan\nVendor: AYO Cosmetic\nProduct Category Code: nan\n\n\nRaw Info: Organia - Soo 96.3% Galactomyoes Time Revitalizing Essence 150ml for men\nProduct Brand: Organia\nProduct Name: Soo 96.3% Galactomyoes Time Revitalizing Essence 150ml for men\nSales: nan\nOriginal Price: nan\nDiscount Price: 107.00\nPromo Tag: overseas delivery\nRating: nan\nReview: nan\nVendor: Organia\nProduct Category Code: AA16107520001\n\n\nRaw Info: M. SKIN CARE - MEN CHARCOAL MUD MASK\nProduct Brand: M. SKIN CARE\nProduct Name: MEN CHARCOAL MUD MASK\nSales: 20\nOriginal Price:  150.00\nDiscount Price: 120.00\nPromo Tag: 2-day group shipment\nRating: nan\nReview: nan\nVendor: Miss Spa Shop\nProduct Category Code: nan\n\n\nRaw Info: Sulwhasoo 雪花秀 - Men Inner Charging Serum Set (Parallel Import)\nProduct Brand: Sulwhasoo 雪花秀\nProduct Name: Men Inner Charging Serum Set (Parallel Import)\nSales: nan\nOriginal Price:  900.00\nDiscount Price: 740.00\nPromo Tag: 2-day group shipment\nRating: nan\nReview: nan\nVendor: Alice Beauty\nProduct Category Code: nan\n\n\nRaw Info: Biotherm - Force Supreme Eye Architect Serum 15ml (Parallel Import)\nProduct Brand: Biotherm\nProduct Name: Force Supreme Eye Architect Serum 15ml (Parallel Import)\nSales: nan\nOriginal Price:  500.00\nDiscount Price: 368.00\nPromo Tag: 2-day group shipment\nRating: nan\nReview: nan\nVendor: JCOR Cosmetic\nProduct Category Code: nan\n\n\nRaw Info: Melvita - MOISTURIZING LIP BALM 3.5G\nProduct Brand: Melvita\nProduct Name: MOISTURIZING LIP BALM 3.5G\nSales: 40\nOriginal Price: 90\nDiscount Price: 81.00\nPromo Tag: 2-day group shipment\nRating: 5\nReview: 2\nVendor: Melvita - French Organic Beauty Care\nProduct Category Code: nan\n\n\nRaw Info: SKII - Men Moisturizing Cleanser 120g\nProduct Brand: SKII\nProduct Name: Men Moisturizing Cleanser 120g\nSales: nan\nOriginal Price:  560.00\nDiscount Price: 492.00\nPromo Tag: 2-day group shipment\nRating: nan\nReview: nan\nVendor: Source Beauty\nProduct Category Code: nan\n\n\nRaw Info: SK-II - MEN FACIAL TREATMENT ESSENCE 75ml  (Parallel Import)\nProduct Brand: SK-II\nProduct Name: MEN FACIAL TREATMENT ESSENCE 75ml  (Parallel Import)\nSales: nan\nOriginal Price:  599.00\nDiscount Price: 498.00\nPromo Tag: 2-day group shipment\nRating: nan\nReview: nan\nVendor: GT Market\nProduct Category Code: nan\n\n\nRaw Info: Shiseido 資生堂 - UNO Whip Men's Face Wash #Scrub 130g [Parallel Import] (4901872449682)\nProduct Brand: Shiseido 資生堂\nProduct Name: UNO Whip Men's Face Wash #Scrub 130g [Parallel Import] (4901872449682)\nSales: nan\nOriginal Price:  54.00\nDiscount Price: 24.00\nPromo Tag: 2-day group shipment\nRating: nan\nReview: nan\nVendor: OM361.COM\nProduct Category Code: nan\n\n\nRaw Info: MANDOM - 3pcs - Fusain Facial wash, Mandom 炭深層洗面膏 (100g x3)\nProduct Brand: MANDOM\nProduct Name: Fusain Facial wash, Mandom 炭深層洗面膏 (100g x3)\nSales: nan\nOriginal Price: nan\nDiscount Price: 118.00\nPromo Tag: 2-day group shipment\nRating: nan\nReview: nan\nVendor: Happy Moment 丨開心生活-專門店\nProduct Category Code: nan\n\n\nRaw Info: Clarins - Men Active Face Wash 125ml\nProduct Brand: Clarins\nProduct Name: Men Active Face Wash 125ml\nSales: nan\nOriginal Price:  300.00\nDiscount Price: 198.00\nPromo Tag: 2-day group shipment\nRating: nan\nReview: nan\nVendor: Beaute House\nProduct Category Code: nan\n\n\nhttps://www.hktvmall.com/hktv/en/main/search?page=9&q=%3Arelevance%3Acategory%3AAA16107500000%3Azone%3Abeautynhealth%3Astreet%3Amain%3A\n"
    }
   ],
   "source": [
    "from bs4 import BeautifulSoup\n",
    "import requests\n",
    "from selenium import webdriver\n",
    "from selenium.webdriver.common.keys import Keys\n",
    "from selenium.webdriver.support.ui import WebDriverWait\n",
    "from selenium.webdriver.support import expected_conditions as EC\n",
    "import time\n",
    "\n",
    "import re\n",
    "import numpy as np\n",
    "import pandas as pd\n",
    "\n",
    "#create dataframe\n",
    "df=pd.DataFrame()\n",
    "\n",
    "#source URL\n",
    "URL= \"https://www.hktvmall.com/hktv/en/main/search?page=0&q=%3Arelevance%3Acategory%3AAA16107500000%3Azone%3Abeautynhealth%3Astreet%3Amain%3A\"\n",
    "URL1=\"https://www.hktvmall.com/hktv/en/main/search?page=\"\n",
    "URL2=\"&q=%3Arelevance%3Acategory%3AAA16107500000%3Azone%3Abeautynhealth%3Astreet%3Amain%3A\"\n",
    "\n",
    "#run selenium wbdriver\n",
    "driver = webdriver.Chrome(executable_path=\"/Applications/chromedriver\")\n",
    "driver.get(URL)\n",
    "time.sleep(5)\n",
    "\n",
    "html = driver.page_source\n",
    "soup=BeautifulSoup(html, \"html.parser\")\n",
    "URL_iter =0\n",
    "\n",
    "#extract information\n",
    "while int(URL_iter)<9:\n",
    "    for item in soup.find_all(class_=\"info-wrapper\"):\n",
    "        \n",
    "        #Raw info\n",
    "        try:\n",
    "            p_raw=item.find(class_=\"brand-product-name\").text\n",
    "            print(\"Raw Info:\", p_raw)\n",
    "        except:\n",
    "            p_raw=str(np.nan)\n",
    "            print(\"Raw Info:\", p_raw)\n",
    "        #Brand name\n",
    "        try:\n",
    "            p_brand=re.match(\"^(.*?)\\s\\-\\s\", p_raw).group(1)\n",
    "            print(\"Product Brand:\", p_brand)\n",
    "        except:\n",
    "            p_brand=p_raw\n",
    "            print(\"Product Brand:\", p_brand)\n",
    "        #Product Name\n",
    "        try:\n",
    "            p_item=re.match(\"^(?:.*)\\s\\-\\s(.*)\", p_raw).group(1)\n",
    "            print(\"Product Name:\", p_item)\n",
    "\n",
    "        except:\n",
    "            p_item=p_raw\n",
    "            print(\"Product Name:\", p_item)\n",
    "        #No. of Sales\n",
    "        try:\n",
    "            p_sales=item.find(class_=\"salesNumber-container\").text.replace(\"+ Sold\", \"\")\n",
    "            print(\"Sales:\", p_sales)\n",
    "        except:\n",
    "            p_sales=np.nan\n",
    "            print(\"Sales:\", p_sales)\n",
    "        #Original price\n",
    "        try:\n",
    "            p_oprice=item.find(class_=\"promotional\").span.text\n",
    "            p_oprice2=re.match(\"^(?:.*\\$)(.*)\", p_oprice).group(1)\n",
    "            print(\"Original Price:\", p_oprice2)\n",
    "        except:\n",
    "            p_oprice=np.nan \n",
    "            print(\"Original Price:\", p_oprice)       \n",
    "        #Discounted Price\n",
    "        try:\n",
    "            p_dprice=item.find(class_=\"price\").span.text.replace(\"$ \", \"\")\n",
    "            print(\"Discount Price:\", p_dprice)\n",
    "        except:\n",
    "            p_dprice=np.nan\n",
    "            print(\"Discount Price:\", p_dprice)\n",
    "        #Promotional tag\n",
    "        try:\n",
    "            promo=item.find(class_=\"deliveryLabelText\").text\n",
    "            print(\"Promo Tag:\", promo)\n",
    "        except:\n",
    "            promo=np.nan\n",
    "            print(\"Promo Tag:\", promo)\n",
    "        #Product Rating\n",
    "        try:\n",
    "            rating=item.find(class_=\"star_container\")[\"data-rating\"]\n",
    "            print(\"Rating:\", rating)\n",
    "        except:\n",
    "            rating=np.nan\n",
    "            print(\"Rating:\", rating)\n",
    "        #No. of Reviews\n",
    "        try:\n",
    "            review=item.find(class_=\"review-number\").text.replace(\"(\", \"\").replace(\")\", \"\")\n",
    "            print(\"Review:\", review)\n",
    "        except:\n",
    "            review=np.nan\n",
    "            print(\"Review:\", review)\n",
    "        #Vendor\n",
    "        try:\n",
    "            vendor=item.find(class_=\"store-name-label\").text\n",
    "            print(\"Vendor:\", vendor)\n",
    "        except:\n",
    "            vendor=np.nan\n",
    "            print(\"Vendor:\", vendor)\n",
    "        #Category code\n",
    "        try:\n",
    "            category=item.find(class_=\"sepaButton add-to-cart-button\")[\"data-category\"]\n",
    "            print(\"Product Category Code:\", category)\n",
    "        except:\n",
    "            category=str(np.nan)\n",
    "            print(\"Product Category Code:\", category)\n",
    "\n",
    "        print(\"\\n\")\n",
    "        #save to dataframe\n",
    "        df=df.append({\"Raw Product\":p_raw, \"Product Brand\":p_brand, \"Product Name\":p_item, \"Sales\":p_sales, \"Original Price\":p_oprice2, \"Discount price\":p_dprice, \"Promo Tag\":promo, \"Rating\":rating, \"Review\":review, \"Vendor\":vendor, \"Product Category Code\":category}, ignore_index=True)\n",
    "    \n",
    "    #load next page\n",
    "    URL_no=re.findall(\"\\?page\\=(\\d*)\\&q\\=.*\",URL)\n",
    "    URL_iter=str(int(URL_no[0])+1)\n",
    "\n",
    "    URL = URL1+URL_iter+URL2\n",
    "    nextlink=URL1+URL_iter+URL2\n",
    "    print(nextlink)\n",
    "\n",
    "    subhtml=driver.get(nextlink)\n",
    "    time.sleep(5)\n",
    "    subhtml=driver.page_source\n",
    "    soup=BeautifulSoup(subhtml, \"html.parser\")\n",
    "#save dataframe as csv\n",
    "df.to_csv(\"hktvmall_skincare_males.csv\")"
   ]
  },
  {
   "cell_type": "code",
   "execution_count": 3,
   "metadata": {},
   "outputs": [
    {
     "output_type": "execute_result",
     "data": {
      "text/plain": "(533, 11)"
     },
     "metadata": {},
     "execution_count": 3
    }
   ],
   "source": [
    "df.shape"
   ]
  },
  {
   "cell_type": "code",
   "execution_count": 6,
   "metadata": {},
   "outputs": [],
   "source": [
    "df.to_csv(\"hktvmall_skincare_males.csv\")"
   ]
  },
  {
   "cell_type": "code",
   "execution_count": 11,
   "metadata": {},
   "outputs": [
    {
     "output_type": "execute_result",
     "data": {
      "text/plain": "Discount price           object\nOriginal Price           object\nProduct Brand            object\nProduct Category Code    object\nProduct Name             object\nPromo Tag                object\nRating                   object\nRaw Product              object\nReview                   object\nSales                    object\nVendor                   object\ndtype: object"
     },
     "metadata": {},
     "execution_count": 11
    }
   ],
   "source": [
    "df.dtypes"
   ]
  },
  {
   "cell_type": "code",
   "execution_count": null,
   "metadata": {},
   "outputs": [],
   "source": []
  }
 ]
}